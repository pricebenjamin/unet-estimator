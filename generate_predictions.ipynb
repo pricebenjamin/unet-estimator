{
 "cells": [
  {
   "cell_type": "code",
   "execution_count": null,
   "metadata": {},
   "outputs": [],
   "source": [
    "import tensorflow as tf\n",
    "import numpy as np\n",
    "\n",
    "# Local imports\n",
    "from train_estimator import IMAGE_FILENAMES, MASK_FILENAMES, \\\n",
    "    NUM_FOLDS, MODEL_DIR\n",
    "from KFolds import KFolds\n",
    "from model import model_fn\n",
    "from input_fn import input_fn\n",
    "\n",
    "FOLD_NUM = 0\n",
    "NUM_RANDOM_IMAGES = 5\n",
    "folds = KFolds(IMAGE_FILENAMES, MASK_FILENAMES,\n",
    "    num_folds=NUM_FOLDS, sort=False, yield_dict=False)\n",
    "\n",
    "(_, _), (eval_images, eval_masks) = folds.get_fold(FOLD_NUM)\n",
    "\n",
    "# TODO: Consider importing parameters from `train_estimator.py`\n",
    "# This would require moving it out of main and into global scope.\n",
    "params = {\n",
    "    'data_format': 'channels_first',\n",
    "    'num_output_classes': 2,\n",
    "    'learning_rate': 1e-4\n",
    "}\n",
    "\n",
    "image_segmentor = tf.estimator.Estimator(\n",
    "    model_dir='-'.join([MODEL_DIR, str(FOLD_NUM)]),\n",
    "    model_fn=model_fn,\n",
    "    params=params)"
   ]
  },
  {
   "cell_type": "code",
   "execution_count": null,
   "metadata": {},
   "outputs": [],
   "source": [
    "# Choose some random cars from the evaluation set.\n",
    "random_indexes = np.random.choice(len(eval_images), size=NUM_RANDOM_IMAGES, replace=False)\n",
    "eval_images = np.array(eval_images) # Convert to np.array to allow for\n",
    "eval_masks = np.array(eval_masks)   # list slicing.\n",
    "\n",
    "predictions = image_segmentor.predict(\n",
    "    input_fn=lambda: input_fn(\n",
    "        eval_images[random_indexes],\n",
    "        eval_masks[random_indexes],\n",
    "        training=False,\n",
    "        data_format=params['data_format']))"
   ]
  },
  {
   "cell_type": "code",
   "execution_count": null,
   "metadata": {},
   "outputs": [],
   "source": [
    "images = []\n",
    "masks = []\n",
    "unconfidence = []\n",
    "\n",
    "for prediction in predictions:\n",
    "    images.append(prediction['images'])\n",
    "    masks.append(prediction['masks'])\n",
    "    unconfidence.append(prediction['unconfidence'])"
   ]
  },
  {
   "cell_type": "code",
   "execution_count": null,
   "metadata": {},
   "outputs": [],
   "source": [
    "print(images[0].shape)\n",
    "print(masks[0].shape)\n",
    "print(unconfidence[0].shape)"
   ]
  },
  {
   "cell_type": "code",
   "execution_count": null,
   "metadata": {},
   "outputs": [],
   "source": [
    "# Rearrange RGB image to channels_last, if necessary\n",
    "if params['data_format'] == 'channels_first':\n",
    "    for i, image in enumerate(images):\n",
    "        r_channel = image[0, :, :]\n",
    "        g_channel = image[1, :, :]\n",
    "        b_channel = image[2, :, :]\n",
    "        images[i] = np.stack([r_channel, g_channel, b_channel], axis=-1)"
   ]
  },
  {
   "cell_type": "code",
   "execution_count": null,
   "metadata": {},
   "outputs": [],
   "source": [
    "print(images[0].shape)\n",
    "print(masks[0].shape)\n",
    "print(unconfidence[0].shape)"
   ]
  },
  {
   "cell_type": "code",
   "execution_count": null,
   "metadata": {},
   "outputs": [],
   "source": [
    "# Note that images and predictions need to be in [height, width, channel]\n",
    "# format in order to be displayed using plt.imshow\n",
    "from matplotlib import pyplot as plt\n",
    "% matplotlib inline"
   ]
  },
  {
   "cell_type": "code",
   "execution_count": null,
   "metadata": {},
   "outputs": [],
   "source": [
    "fig, axes = plt.subplots(1, 3)\n",
    "fig.set_size_inches(h=6, w=18)\n",
    "\n",
    "index = 2\n",
    "\n",
    "axes[0].imshow(images[index])\n",
    "axes[0].set_title('Original image')\n",
    "axes[1].imshow(masks[index])\n",
    "axes[1].set_title('Predicted mask')\n",
    "axes[2].imshow(unconfidence[index])\n",
    "axes[2].set_title('Unconfidence score')\n",
    "\n",
    "for ax in axes:\n",
    "    ax.set_xticks([])\n",
    "    ax.set_yticks([])\n",
    "\n",
    "# plt.savefig('images/unconfidence.png')"
   ]
  },
  {
   "cell_type": "code",
   "execution_count": null,
   "metadata": {},
   "outputs": [],
   "source": [
    "from PIL import Image"
   ]
  },
  {
   "cell_type": "code",
   "execution_count": null,
   "metadata": {},
   "outputs": [],
   "source": [
    "im = unconfidence[index] * 255\n",
    "im = im.astype(np.uint8)\n",
    "im = Image.fromarray(im)\n",
    "im.save('images/unconfidence_{}.png'.format(index))"
   ]
  },
  {
   "cell_type": "code",
   "execution_count": null,
   "metadata": {},
   "outputs": [],
   "source": [
    "im = images[index] * 255\n",
    "im = im.astype(np.uint8)\n",
    "im = Image.fromarray(im)\n",
    "im.save('images/original_{}.png'.format(index))"
   ]
  }
 ],
 "metadata": {
  "kernelspec": {
   "display_name": "Python 3",
   "language": "python",
   "name": "python3"
  },
  "language_info": {
   "codemirror_mode": {
    "name": "ipython",
    "version": 3
   },
   "file_extension": ".py",
   "mimetype": "text/x-python",
   "name": "python",
   "nbconvert_exporter": "python",
   "pygments_lexer": "ipython3",
   "version": "3.6.5"
  }
 },
 "nbformat": 4,
 "nbformat_minor": 2
}
